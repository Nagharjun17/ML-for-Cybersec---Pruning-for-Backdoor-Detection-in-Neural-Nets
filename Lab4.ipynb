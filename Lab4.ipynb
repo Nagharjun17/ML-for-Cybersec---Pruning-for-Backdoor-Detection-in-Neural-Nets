{
  "nbformat": 4,
  "nbformat_minor": 0,
  "metadata": {
    "colab": {
      "provenance": [],
      "gpuType": "T4"
    },
    "kernelspec": {
      "name": "python3",
      "display_name": "Python 3"
    },
    "language_info": {
      "name": "python"
    },
    "accelerator": "GPU"
  },
  "cells": [
    {
      "cell_type": "markdown",
      "source": [
        "# Nagharjun Mathi Mariappan\n",
        "# nm4074\n",
        "\n",
        "#ML for Cyber Security"
      ],
      "metadata": {
        "id": "K_Y2xyQnl3mF"
      }
    },
    {
      "cell_type": "markdown",
      "source": [
        "## Importing Libraries"
      ],
      "metadata": {
        "id": "1ds181yJmCNC"
      }
    },
    {
      "cell_type": "code",
      "execution_count": 11,
      "metadata": {
        "id": "jU0UV6wLURmC"
      },
      "outputs": [],
      "source": [
        "import numpy as np\n",
        "import tensorflow as tf\n",
        "from tensorflow import keras\n",
        "from keras import backend as K\n",
        "from keras.models import Model\n",
        "import h5py\n",
        "from google.colab import drive\n",
        "import warnings\n",
        "from tabulate import tabulate\n",
        "warnings.filterwarnings(\"ignore\")"
      ]
    },
    {
      "cell_type": "code",
      "source": [
        "drive.mount('/content/drive')"
      ],
      "metadata": {
        "colab": {
          "base_uri": "https://localhost:8080/"
        },
        "id": "hTfsvw15UVDY",
        "outputId": "35c8e7f8-2f1c-46b7-97ad-4ded8da973c1"
      },
      "execution_count": 12,
      "outputs": [
        {
          "output_type": "stream",
          "name": "stdout",
          "text": [
            "Drive already mounted at /content/drive; to attempt to forcibly remount, call drive.mount(\"/content/drive\", force_remount=True).\n"
          ]
        }
      ]
    },
    {
      "cell_type": "markdown",
      "source": [
        "## Function to read the data"
      ],
      "metadata": {
        "id": "_c0tSh8umFUG"
      }
    },
    {
      "cell_type": "code",
      "source": [
        "def dataLoader(path):\n",
        "    data = h5py.File(path, 'r')\n",
        "    xData = np.array(data['data'])\n",
        "    yData = np.array(data['label'])\n",
        "    xData = xData.transpose((0,2,3,1))\n",
        "    return xData, yData"
      ],
      "metadata": {
        "id": "l5vftW-Kalz7"
      },
      "execution_count": 13,
      "outputs": []
    },
    {
      "cell_type": "markdown",
      "source": [
        "## Initializing data and model paths and reading the data"
      ],
      "metadata": {
        "id": "LNTSK5SImKMC"
      }
    },
    {
      "cell_type": "code",
      "source": [
        "cleanValidDataPath = '/content/drive/MyDrive/mlforcybersec_nm4074_lab4/valid.h5'\n",
        "cleanTestDataPath = '/content/drive/MyDrive/mlforcybersec_nm4074_lab4/test.h5'\n",
        "poisonedTestDataPath = '/content/drive/MyDrive/mlforcybersec_nm4074_lab4/bd_test.h5'\n",
        "badModelPath = '/content/drive/MyDrive/mlforcybersec_nm4074_lab4/bd_net.h5'\n",
        "badModelWeightsPath = '/content/drive/MyDrive/mlforcybersec_nm4074_lab4/bd_weights.h5'\n",
        "\n",
        "cleanValidX, cleanValidY = dataLoader(cleanValidDataPath)\n",
        "cleanTestX, cleanTestY = dataLoader(cleanTestDataPath)\n",
        "poisonedTestX, poisonedTestY = dataLoader(poisonedTestDataPath)"
      ],
      "metadata": {
        "id": "mZgx-KckUWdF"
      },
      "execution_count": 14,
      "outputs": []
    },
    {
      "cell_type": "markdown",
      "source": [
        "## Loading the badnet and creating a copy of it"
      ],
      "metadata": {
        "id": "cJbNQ3Z1mR1v"
      }
    },
    {
      "cell_type": "code",
      "source": [
        "badModel = keras.models.load_model(badModelPath)\n",
        "badModelCopy = keras.models.load_model(badModelPath)\n",
        "badModel.load_weights(badModelWeightsPath)\n",
        "badModelCopy.load_weights(badModelWeightsPath)"
      ],
      "metadata": {
        "id": "wr2WOq_NX99x"
      },
      "execution_count": 15,
      "outputs": []
    },
    {
      "cell_type": "markdown",
      "source": [
        "## Badnet accuracy on clean validation data"
      ],
      "metadata": {
        "id": "A8uLdU18mYvb"
      }
    },
    {
      "cell_type": "code",
      "source": [
        "cleanValidPredictions = np.argmax(badModel(cleanValidX), axis=1)\n",
        "cleanValidAccuracy = np.mean(np.equal(cleanValidPredictions, cleanValidY)) * 100\n",
        "\n",
        "print(\"Accuracy on clean validation data before pruning {0:3.6f}\".format(cleanValidAccuracy))\n",
        "K.clear_session()"
      ],
      "metadata": {
        "colab": {
          "base_uri": "https://localhost:8080/"
        },
        "id": "7dhWeJlSYf9g",
        "outputId": "586b1e26-99da-4020-8b8d-a4a7ca25e627"
      },
      "execution_count": 16,
      "outputs": [
        {
          "output_type": "stream",
          "name": "stdout",
          "text": [
            "Accuracy on clean validation data before pruning 98.649000\n"
          ]
        }
      ]
    },
    {
      "cell_type": "markdown",
      "source": [
        "## Model Summary"
      ],
      "metadata": {
        "id": "KVBmE1bzmmSu"
      }
    },
    {
      "cell_type": "code",
      "source": [
        "print(badModel.summary())"
      ],
      "metadata": {
        "colab": {
          "base_uri": "https://localhost:8080/"
        },
        "id": "yE1cLLULeKo8",
        "outputId": "64214098-eb52-4e0c-ac94-1388a21d4b34"
      },
      "execution_count": 17,
      "outputs": [
        {
          "output_type": "stream",
          "name": "stdout",
          "text": [
            "Model: \"model_1\"\n",
            "__________________________________________________________________________________________________\n",
            " Layer (type)                Output Shape                 Param #   Connected to                  \n",
            "==================================================================================================\n",
            " input (InputLayer)          [(None, 55, 47, 3)]          0         []                            \n",
            "                                                                                                  \n",
            " conv_1 (Conv2D)             (None, 52, 44, 20)           980       ['input[0][0]']               \n",
            "                                                                                                  \n",
            " pool_1 (MaxPooling2D)       (None, 26, 22, 20)           0         ['conv_1[0][0]']              \n",
            "                                                                                                  \n",
            " conv_2 (Conv2D)             (None, 24, 20, 40)           7240      ['pool_1[0][0]']              \n",
            "                                                                                                  \n",
            " pool_2 (MaxPooling2D)       (None, 12, 10, 40)           0         ['conv_2[0][0]']              \n",
            "                                                                                                  \n",
            " conv_3 (Conv2D)             (None, 10, 8, 60)            21660     ['pool_2[0][0]']              \n",
            "                                                                                                  \n",
            " pool_3 (MaxPooling2D)       (None, 5, 4, 60)             0         ['conv_3[0][0]']              \n",
            "                                                                                                  \n",
            " conv_4 (Conv2D)             (None, 4, 3, 80)             19280     ['pool_3[0][0]']              \n",
            "                                                                                                  \n",
            " flatten_1 (Flatten)         (None, 1200)                 0         ['pool_3[0][0]']              \n",
            "                                                                                                  \n",
            " flatten_2 (Flatten)         (None, 960)                  0         ['conv_4[0][0]']              \n",
            "                                                                                                  \n",
            " fc_1 (Dense)                (None, 160)                  192160    ['flatten_1[0][0]']           \n",
            "                                                                                                  \n",
            " fc_2 (Dense)                (None, 160)                  153760    ['flatten_2[0][0]']           \n",
            "                                                                                                  \n",
            " add_1 (Add)                 (None, 160)                  0         ['fc_1[0][0]',                \n",
            "                                                                     'fc_2[0][0]']                \n",
            "                                                                                                  \n",
            " activation_1 (Activation)   (None, 160)                  0         ['add_1[0][0]']               \n",
            "                                                                                                  \n",
            " output (Dense)              (None, 1283)                 206563    ['activation_1[0][0]']        \n",
            "                                                                                                  \n",
            "==================================================================================================\n",
            "Total params: 601643 (2.30 MB)\n",
            "Trainable params: 601643 (2.30 MB)\n",
            "Non-trainable params: 0 (0.00 Byte)\n",
            "__________________________________________________________________________________________________\n",
            "None\n"
          ]
        }
      ]
    },
    {
      "cell_type": "markdown",
      "source": [
        "## Main part of the code which prunes the model"
      ],
      "metadata": {
        "id": "wAWUSEX2mpam"
      }
    },
    {
      "cell_type": "code",
      "source": [
        "# Define a new model to get the output from 'pool_3' layer of the badModel for further analysis\n",
        "intermediateModel = Model(inputs=badModel.inputs, outputs=badModel.get_layer('pool_3').output)\n",
        "\n",
        "# Generate feature maps for the 'pool_3' layer using the validation data without any backdoor triggers\n",
        "intermediateFeatureMaps = intermediateModel.predict(cleanValidX)\n",
        "\n",
        "# Compute the mean activation for each channel in the 'pool_3' layer across all validation images\n",
        "averageIntermediateActivations = np.mean(intermediateFeatureMaps, axis=(0,1,2))\n",
        "\n",
        "# Order the indices of channels by their average activation value to identify less activated channels first\n",
        "indexesToPrune = np.argsort(averageIntermediateActivations)\n",
        "\n",
        "# Retrieve the weights and biases from the third convolutional layer of the duplicated bad model\n",
        "lastConvLayerWeights = badModelCopy.layers[5].get_weights()[0]\n",
        "lastConvLayerBiases  = badModelCopy.layers[5].get_weights()[1]\n",
        "\n",
        "# Initialize an array to track which models have been saved based on accuracy drop thresholds\n",
        "savedModel = np.zeros(3,dtype=bool)\n",
        "\n",
        "# Iterate over the indices of channels to prune them sequentially\n",
        "for channelIndex in indexesToPrune:\n",
        "\n",
        "  # Zero out the weights and biases of the current channel to deactivate it\n",
        "  lastConvLayerWeights[:,:,:,channelIndex] = 0\n",
        "  lastConvLayerBiases[channelIndex] = 0\n",
        "\n",
        "  # Apply the updated weights and biases to the duplicate model to simulate pruning\n",
        "  badModelCopy.layers[5].set_weights([lastConvLayerWeights, lastConvLayerBiases])\n",
        "\n",
        "  # Assess the pruned model's performance on the clean validation dataset\n",
        "  cleanValidUpdatedPredictions = np.argmax(badModelCopy(cleanValidX), axis=1)\n",
        "  cleanValidUpdatedAccuracy = np.mean(np.equal(cleanValidUpdatedPredictions, cleanValidY)) * 100\n",
        "\n",
        "  # Save the pruned model if the accuracy decrease hits predefined thresholds of 2%, 4%, or 10%\n",
        "  if cleanValidAccuracy-cleanValidUpdatedAccuracy >= 2 and not savedModel[0]:\n",
        "    print(\"The accuracy drops at least 2%, saved the model\")\n",
        "    badModelCopy.save('model2.h5')\n",
        "    savedModel[0] = True\n",
        "  if cleanValidAccuracy-cleanValidUpdatedAccuracy >= 4 and not savedModel[1]:\n",
        "    print(\"The accuracy drops at least 4%, saved the model\")\n",
        "    badModelCopy.save('model4.h5')\n",
        "    savedModel[1] = True\n",
        "  if cleanValidAccuracy-cleanValidUpdatedAccuracy >= 10 and not savedModel[2]:\n",
        "    print(\"The accuracy drops at least 10%, saved the model\")\n",
        "    badModelCopy.save('model10.h5')\n",
        "    savedModel[2] = True\n",
        "    break  # Stop pruning once the highest threshold is reached"
      ],
      "metadata": {
        "colab": {
          "base_uri": "https://localhost:8080/"
        },
        "id": "JRV48NWkYmc2",
        "outputId": "91ce56b8-3a03-4311-cb18-9632eb560c1f"
      },
      "execution_count": 18,
      "outputs": [
        {
          "output_type": "stream",
          "name": "stdout",
          "text": [
            "361/361 [==============================] - 1s 2ms/step\n",
            "The accuracy drops at least 2%, saved the model\n",
            "The accuracy drops at least 4%, saved the model\n",
            "The accuracy drops at least 10%, saved the model\n"
          ]
        }
      ]
    },
    {
      "cell_type": "code",
      "source": [
        "class G(tf.keras.Model):\n",
        "    def __init__(self, model, modelPrime):\n",
        "        super(G, self).__init__()\n",
        "        self.model = model\n",
        "        self.modelPrime = modelPrime\n",
        "\n",
        "    def predict(self,data):\n",
        "        y = np.argmax(self.model(data), axis=1)\n",
        "        yPrime = np.argmax(self.modelPrime(data), axis=1)\n",
        "        tmpRes = np.array([y[i] if y[i] == yPrime[i] else 1283 for i in range(y.shape[0])])\n",
        "        res = np.zeros((y.shape[0],1284))\n",
        "        res[np.arange(tmpRes.size),tmpRes] = 1\n",
        "        return res\n",
        "\n",
        "    def call(self,data):\n",
        "        y = np.argmax(self.model(data), axis=1)\n",
        "        yPrime = np.argmax(self.modelPrime(data), axis=1)\n",
        "        tmpRes = np.array([y[i] if y[i] == yPrime[i] else 1283 for i in range(y.shape[0])])\n",
        "        res = np.zeros((y.shape[0],1284))\n",
        "        res[np.arange(tmpRes.size),tmpRes] = 1\n",
        "        return res"
      ],
      "metadata": {
        "id": "8sJxOPE4bLxN"
      },
      "execution_count": 19,
      "outputs": []
    },
    {
      "cell_type": "markdown",
      "source": [
        "## Loading pruned models"
      ],
      "metadata": {
        "id": "Z_KsnZTvnF3F"
      }
    },
    {
      "cell_type": "code",
      "source": [
        "pruned2AccuracyDropPath = '/content/model2.h5'\n",
        "pruned4AccuracyDropPath = '/content/model4.h5'\n",
        "pruned10AccuracyDropPath = '/content/model10.h5'\n",
        "\n",
        "\n",
        "pruned2AccuracyDropModel = keras.models.load_model(pruned2AccuracyDropPath)\n",
        "pruned4AccuracyDropModel = keras.models.load_model(pruned4AccuracyDropPath)\n",
        "pruned10AccuracyDropModel = keras.models.load_model(pruned10AccuracyDropPath)"
      ],
      "metadata": {
        "id": "3lQKg6YnbPM3"
      },
      "execution_count": 20,
      "outputs": []
    },
    {
      "cell_type": "markdown",
      "source": [
        "## 2% Accuracy Threshold Model"
      ],
      "metadata": {
        "id": "DBPMjKN1h5ou"
      }
    },
    {
      "cell_type": "markdown",
      "source": [
        "#### Clean Test Data"
      ],
      "metadata": {
        "id": "0aqHpTtniS2q"
      }
    },
    {
      "cell_type": "code",
      "source": [
        "cleanTestPredictions = np.argmax(pruned2AccuracyDropModel.predict(cleanTestX), axis=1)\n",
        "cleanTestAccuracy2 = np.mean(np.equal(cleanTestPredictions, cleanTestY))*100\n",
        "print('Classification accuracy on clean test data for the 2% accuracy threshold model:', cleanTestAccuracy2)"
      ],
      "metadata": {
        "id": "Fh-8R_u2bUR8",
        "colab": {
          "base_uri": "https://localhost:8080/"
        },
        "outputId": "d746ea69-1ebb-462c-93f8-c11f37275237"
      },
      "execution_count": 21,
      "outputs": [
        {
          "output_type": "stream",
          "name": "stdout",
          "text": [
            "401/401 [==============================] - 1s 3ms/step\n",
            "Classification accuracy on clean test data for the 2% accuracy threshold model: 95.90023382696803\n"
          ]
        }
      ]
    },
    {
      "cell_type": "markdown",
      "source": [
        "#### Poisoned Test Data"
      ],
      "metadata": {
        "id": "IEg055ftiVtE"
      }
    },
    {
      "cell_type": "code",
      "source": [
        "poisonedTestPredictions = np.argmax(pruned2AccuracyDropModel.predict(poisonedTestX), axis=1)\n",
        "poisonedTestAccuracy2 = np.mean(np.equal(poisonedTestPredictions, poisonedTestY))*100\n",
        "print('Attack Success Rate on poisoned test data for the 2% accuracy threshold model:', poisonedTestAccuracy2)"
      ],
      "metadata": {
        "id": "oX2Iyrr5iR-v",
        "colab": {
          "base_uri": "https://localhost:8080/"
        },
        "outputId": "4aca0cf8-6a8d-423b-bf35-d1cf97881e0f"
      },
      "execution_count": 22,
      "outputs": [
        {
          "output_type": "stream",
          "name": "stdout",
          "text": [
            "401/401 [==============================] - 1s 2ms/step\n",
            "Attack Success Rate on poisoned test data for the 2% accuracy threshold model: 100.0\n"
          ]
        }
      ]
    },
    {
      "cell_type": "markdown",
      "source": [
        "## 4% Accuracy Threshold Model"
      ],
      "metadata": {
        "id": "IxcofWyAh-KD"
      }
    },
    {
      "cell_type": "markdown",
      "source": [
        "#### Clean Test Data"
      ],
      "metadata": {
        "id": "vVwkXFvbicME"
      }
    },
    {
      "cell_type": "code",
      "source": [
        "cleanTestPredictions = np.argmax(pruned4AccuracyDropModel.predict(cleanTestX), axis=1)\n",
        "cleanTestAccuracy4 = np.mean(np.equal(cleanTestPredictions, cleanTestY))*100\n",
        "print('Classification accuracy on clean test data for the 4% accuracy threshold model:', cleanTestAccuracy4)"
      ],
      "metadata": {
        "id": "zo3eLVYDbV-R",
        "colab": {
          "base_uri": "https://localhost:8080/"
        },
        "outputId": "241d5762-08a7-4e60-bea5-9ee0088eb22b"
      },
      "execution_count": 23,
      "outputs": [
        {
          "output_type": "stream",
          "name": "stdout",
          "text": [
            "401/401 [==============================] - 1s 3ms/step\n",
            "Classification accuracy on clean test data for the 4% accuracy threshold model: 92.29150428682775\n"
          ]
        }
      ]
    },
    {
      "cell_type": "markdown",
      "source": [
        "#### Poisoned Test Data"
      ],
      "metadata": {
        "id": "H82tFZi7ic8O"
      }
    },
    {
      "cell_type": "code",
      "source": [
        "poisonedTestPredictions = np.argmax(pruned4AccuracyDropModel.predict(poisonedTestX), axis=1)\n",
        "poisonedTestAccuracy4 = np.mean(np.equal(poisonedTestPredictions, poisonedTestY))*100\n",
        "print('Attack Success Rate on poisoned test data for the 4% accuracy threshold model:', poisonedTestAccuracy4)"
      ],
      "metadata": {
        "id": "zi4AVnUDiaeB",
        "colab": {
          "base_uri": "https://localhost:8080/"
        },
        "outputId": "5bd7c836-606d-4107-8404-f03e0b94eed0"
      },
      "execution_count": 24,
      "outputs": [
        {
          "output_type": "stream",
          "name": "stdout",
          "text": [
            "401/401 [==============================] - 1s 3ms/step\n",
            "Attack Success Rate on poisoned test data for the 4% accuracy threshold model: 99.98441153546376\n"
          ]
        }
      ]
    },
    {
      "cell_type": "markdown",
      "source": [
        "## 10% Accuracy Threshold Model"
      ],
      "metadata": {
        "id": "U7UxSmm3iZ4N"
      }
    },
    {
      "cell_type": "markdown",
      "source": [
        "#### Clean Test Data"
      ],
      "metadata": {
        "id": "CX_klARfiv5p"
      }
    },
    {
      "cell_type": "code",
      "source": [
        "cleanTestPredictions = np.argmax(pruned10AccuracyDropModel.predict(cleanTestX), axis=1)\n",
        "cleanTestAccuracy10 = np.mean(np.equal(cleanTestPredictions, cleanTestY))*100\n",
        "print('Classification accuracy on clean test data for the 10% accuracy threshold model:', cleanTestAccuracy10)"
      ],
      "metadata": {
        "id": "ypU-hhBJbXm6",
        "colab": {
          "base_uri": "https://localhost:8080/"
        },
        "outputId": "0b5b35fc-575f-4698-afd6-4cbede641a48"
      },
      "execution_count": 25,
      "outputs": [
        {
          "output_type": "stream",
          "name": "stdout",
          "text": [
            "401/401 [==============================] - 1s 2ms/step\n",
            "Classification accuracy on clean test data for the 10% accuracy threshold model: 84.54403741231489\n"
          ]
        }
      ]
    },
    {
      "cell_type": "markdown",
      "source": [
        "#### Poisoned Test Data"
      ],
      "metadata": {
        "id": "0S_9REjBivWr"
      }
    },
    {
      "cell_type": "code",
      "source": [
        "poisonedTestPredictions = np.argmax(pruned10AccuracyDropModel.predict(poisonedTestX), axis=1)\n",
        "poisonedTestAccuracy10 = np.mean(np.equal(poisonedTestPredictions, poisonedTestY))*100\n",
        "print('Attack Success Rate on poisoned test data for the 10% accuracy threshold model:', poisonedTestAccuracy10)"
      ],
      "metadata": {
        "id": "XHv_lGY_ishN",
        "colab": {
          "base_uri": "https://localhost:8080/"
        },
        "outputId": "8353030a-8281-4b06-e024-812227cd4234"
      },
      "execution_count": 26,
      "outputs": [
        {
          "output_type": "stream",
          "name": "stdout",
          "text": [
            "401/401 [==============================] - 1s 2ms/step\n",
            "Attack Success Rate on poisoned test data for the 10% accuracy threshold model: 77.20966484801247\n"
          ]
        }
      ]
    },
    {
      "cell_type": "markdown",
      "source": [
        "## Unpruned Model"
      ],
      "metadata": {
        "id": "ZzUUJrtMjJpw"
      }
    },
    {
      "cell_type": "markdown",
      "source": [
        "#### Clean Test Data"
      ],
      "metadata": {
        "id": "MAN0XAGVjMuy"
      }
    },
    {
      "cell_type": "code",
      "source": [
        "cleanTestPredictions = np.argmax(badModel.predict(cleanTestX), axis=1)\n",
        "cleanTestAccuracyBadModel = np.mean(np.equal(cleanTestPredictions, cleanTestY))*100\n",
        "print('Classification accuracy on clean test data for the unpruned bad model:', cleanTestAccuracyBadModel)"
      ],
      "metadata": {
        "id": "okGwi0PfbZfd",
        "colab": {
          "base_uri": "https://localhost:8080/"
        },
        "outputId": "ac343875-37fe-4a25-eed7-c44595ca818e"
      },
      "execution_count": 27,
      "outputs": [
        {
          "output_type": "stream",
          "name": "stdout",
          "text": [
            "401/401 [==============================] - 1s 2ms/step\n",
            "Classification accuracy on clean test data for the unpruned bad model: 98.62042088854248\n"
          ]
        }
      ]
    },
    {
      "cell_type": "markdown",
      "source": [
        "#### Poisoned Test Data"
      ],
      "metadata": {
        "id": "sWv4J4gCjNUe"
      }
    },
    {
      "cell_type": "code",
      "source": [
        "poisonedTestPredictions = np.argmax(badModel.predict(poisonedTestX), axis=1)\n",
        "poisonedTestAccuracyBadModel = np.mean(np.equal(poisonedTestPredictions, poisonedTestY))*100\n",
        "print('Attack Success Rate on poisoned test data for the unpruned bad model:', poisonedTestAccuracyBadModel)"
      ],
      "metadata": {
        "id": "XIgMCEIMjPS6",
        "colab": {
          "base_uri": "https://localhost:8080/"
        },
        "outputId": "6e386b8e-034c-44a1-d0c7-730166d1b334"
      },
      "execution_count": 28,
      "outputs": [
        {
          "output_type": "stream",
          "name": "stdout",
          "text": [
            "401/401 [==============================] - 1s 2ms/step\n",
            "Attack Success Rate on poisoned test data for the unpruned bad model: 100.0\n"
          ]
        }
      ]
    },
    {
      "cell_type": "markdown",
      "source": [
        "## Repairing the model"
      ],
      "metadata": {
        "id": "RBcTcEb5jkmX"
      }
    },
    {
      "cell_type": "code",
      "source": [
        "repaired2AccuracyDropModel = G(badModel, pruned2AccuracyDropModel)\n",
        "repaired4AccuracyDropModel = G(badModel, pruned4AccuracyDropModel)\n",
        "repaired10AccuracyDropModel = G(badModel, pruned10AccuracyDropModel)"
      ],
      "metadata": {
        "id": "fEsTrYaIbbDa"
      },
      "execution_count": 29,
      "outputs": []
    },
    {
      "cell_type": "markdown",
      "source": [
        "## Repaired threshold 2% model"
      ],
      "metadata": {
        "id": "qoCSgVPEjqL4"
      }
    },
    {
      "cell_type": "markdown",
      "source": [
        "#### Clean Test Data"
      ],
      "metadata": {
        "id": "gwBmuEdOkiIr"
      }
    },
    {
      "cell_type": "code",
      "source": [
        "cleanTestPredictions = np.argmax(repaired2AccuracyDropModel(cleanTestX), axis=1)\n",
        "cleanTestAccuracyRepaired2 = np.mean(np.equal(cleanTestPredictions, cleanTestY))*100\n",
        "print('Classification accuracy on clean test data for the repaired 2% accuracy threshold model:', cleanTestAccuracyRepaired2)"
      ],
      "metadata": {
        "id": "2VyX96bDbc3n",
        "colab": {
          "base_uri": "https://localhost:8080/"
        },
        "outputId": "62a8f679-bc63-4afa-ab81-bc7cf8e1fb43"
      },
      "execution_count": 30,
      "outputs": [
        {
          "output_type": "stream",
          "name": "stdout",
          "text": [
            "Classification accuracy on clean test data for the repaired 2% accuracy threshold model: 95.74434918160561\n"
          ]
        }
      ]
    },
    {
      "cell_type": "markdown",
      "source": [
        "#### Poisoned Test Data"
      ],
      "metadata": {
        "id": "uTksYBVXkipZ"
      }
    },
    {
      "cell_type": "code",
      "source": [
        "poisonedTestPredictions = np.argmax(repaired2AccuracyDropModel(poisonedTestX), axis=1)\n",
        "poisonedTestAccuracyRepaired2 = np.mean(np.equal(poisonedTestPredictions, poisonedTestY))*100\n",
        "print('Attack Success Rate on poisoned test data for the repaired 2% accuracy threshold model:', poisonedTestAccuracyRepaired2)"
      ],
      "metadata": {
        "id": "24K_fVrUjt8I",
        "colab": {
          "base_uri": "https://localhost:8080/"
        },
        "outputId": "5f118c6e-d6ca-49ea-fb80-f0a9eb2aa87f"
      },
      "execution_count": 31,
      "outputs": [
        {
          "output_type": "stream",
          "name": "stdout",
          "text": [
            "Attack Success Rate on poisoned test data for the repaired 2% accuracy threshold model: 100.0\n"
          ]
        }
      ]
    },
    {
      "cell_type": "markdown",
      "source": [
        "## Repaired threshold 4% model"
      ],
      "metadata": {
        "id": "hHMX8HJVklAG"
      }
    },
    {
      "cell_type": "markdown",
      "source": [
        "#### Clean Test Data"
      ],
      "metadata": {
        "id": "K4YVvPtLlLA6"
      }
    },
    {
      "cell_type": "code",
      "source": [
        "cleanTestPredictions = np.argmax(repaired4AccuracyDropModel(cleanTestX), axis=1)\n",
        "cleanTestAccuracyRepaired4 = np.mean(np.equal(cleanTestPredictions, cleanTestY))*100\n",
        "print('Classification accuracy on clean test data for the repaired 4% accuracy threshold model:', cleanTestAccuracyRepaired4)"
      ],
      "metadata": {
        "id": "DqXCYHwkbeVH",
        "colab": {
          "base_uri": "https://localhost:8080/"
        },
        "outputId": "3a2208fc-5cfd-427d-8fc9-df43eff91f94"
      },
      "execution_count": 32,
      "outputs": [
        {
          "output_type": "stream",
          "name": "stdout",
          "text": [
            "Classification accuracy on clean test data for the repaired 4% accuracy threshold model: 92.1278254091972\n"
          ]
        }
      ]
    },
    {
      "cell_type": "markdown",
      "source": [
        "#### Poisoned Test Data"
      ],
      "metadata": {
        "id": "uldSjf70lM9v"
      }
    },
    {
      "cell_type": "code",
      "source": [
        "poisonedTestPredictions = np.argmax(repaired4AccuracyDropModel(poisonedTestX), axis=1)\n",
        "poisonedTestAccuracyRepaired4 = np.mean(np.equal(poisonedTestPredictions, poisonedTestY))*100\n",
        "print('Attack Success Rate on poisoned test data for the repaired 4% accuracy threshold model:', poisonedTestAccuracyRepaired4)"
      ],
      "metadata": {
        "id": "lz3fsW4xknbt",
        "colab": {
          "base_uri": "https://localhost:8080/"
        },
        "outputId": "4336f982-c930-4866-d299-e447bb302cf6"
      },
      "execution_count": 33,
      "outputs": [
        {
          "output_type": "stream",
          "name": "stdout",
          "text": [
            "Attack Success Rate on poisoned test data for the repaired 4% accuracy threshold model: 99.98441153546376\n"
          ]
        }
      ]
    },
    {
      "cell_type": "markdown",
      "source": [
        "## Repaired threshold 10% model"
      ],
      "metadata": {
        "id": "D2gHOSc0lgUm"
      }
    },
    {
      "cell_type": "markdown",
      "source": [
        "#### Clean Test Data"
      ],
      "metadata": {
        "id": "gwL9uWmaliHr"
      }
    },
    {
      "cell_type": "code",
      "source": [
        "cleanTestPredictions = np.argmax(repaired10AccuracyDropModel(cleanTestX), axis=1)\n",
        "cleanTestAccuracyRepaired10 = np.mean(np.equal(cleanTestPredictions, cleanTestY))*100\n",
        "print('Classification accuracy on clean test data for the repaired 10% accuracy threshold model:', cleanTestAccuracyRepaired10)"
      ],
      "metadata": {
        "id": "AufiUkfLbgDW",
        "colab": {
          "base_uri": "https://localhost:8080/"
        },
        "outputId": "68a19e1c-e3ea-4d79-fe1b-60b4e2504c48"
      },
      "execution_count": 34,
      "outputs": [
        {
          "output_type": "stream",
          "name": "stdout",
          "text": [
            "Classification accuracy on clean test data for the repaired 10% accuracy threshold model: 84.3335931410756\n"
          ]
        }
      ]
    },
    {
      "cell_type": "markdown",
      "source": [
        "#### Poisoned Test Data"
      ],
      "metadata": {
        "id": "ph3h64pUljd6"
      }
    },
    {
      "cell_type": "code",
      "source": [
        "poisonedTestPredictions = np.argmax(repaired10AccuracyDropModel(poisonedTestX), axis=1)\n",
        "poisonedTestAccuracyRepaired10 = np.mean(np.equal(poisonedTestPredictions, poisonedTestY))*100\n",
        "print('Attack Success Rate on poisoned test data for the repaired 10% accuracy threshold model:', poisonedTestAccuracyRepaired10)"
      ],
      "metadata": {
        "id": "nb1tLNx6lk1g",
        "colab": {
          "base_uri": "https://localhost:8080/"
        },
        "outputId": "d972a486-5e87-4acd-c102-9fbc724f4d37"
      },
      "execution_count": 35,
      "outputs": [
        {
          "output_type": "stream",
          "name": "stdout",
          "text": [
            "Attack Success Rate on poisoned test data for the repaired 10% accuracy threshold model: 77.20966484801247\n"
          ]
        }
      ]
    },
    {
      "cell_type": "markdown",
      "source": [
        "##Final Results"
      ],
      "metadata": {
        "id": "uiJ2TLUhnaLi"
      }
    },
    {
      "cell_type": "code",
      "source": [
        "data = [[\"2% Repaired\", cleanTestAccuracyRepaired2, poisonedTestAccuracyRepaired2],\n",
        "        [\"4% Repaired\", cleanTestAccuracyRepaired4, poisonedTestAccuracyRepaired4],\n",
        "        [\"10% Repaired\", cleanTestAccuracyRepaired10, poisonedTestAccuracyRepaired10]]\n",
        "\n",
        "head = [\"Model\", \"Repaired Clean Accuracy\", \"Attack Rate\"]\n",
        "\n",
        "print(tabulate(data, headers=head, tablefmt=\"grid\"))"
      ],
      "metadata": {
        "id": "EcncnxHubhiy",
        "colab": {
          "base_uri": "https://localhost:8080/"
        },
        "outputId": "01caf179-92e7-405a-890c-597bc8273e50"
      },
      "execution_count": 36,
      "outputs": [
        {
          "output_type": "stream",
          "name": "stdout",
          "text": [
            "+--------------+---------------------------+---------------+\n",
            "| Model        |   Repaired Clean Accuracy |   Attack Rate |\n",
            "+==============+===========================+===============+\n",
            "| 2% Repaired  |                   95.7443 |      100      |\n",
            "+--------------+---------------------------+---------------+\n",
            "| 4% Repaired  |                   92.1278 |       99.9844 |\n",
            "+--------------+---------------------------+---------------+\n",
            "| 10% Repaired |                   84.3336 |       77.2097 |\n",
            "+--------------+---------------------------+---------------+\n"
          ]
        }
      ]
    },
    {
      "cell_type": "code",
      "source": [],
      "metadata": {
        "id": "h6QB4TgYbmSF"
      },
      "execution_count": 36,
      "outputs": []
    }
  ]
}